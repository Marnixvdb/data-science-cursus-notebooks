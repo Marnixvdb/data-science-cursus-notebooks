{
 "cells": [
  {
   "cell_type": "markdown",
   "metadata": {},
   "source": [
    "# Cosine similarity\n",
    "\n",
    "## import packages"
   ]
  },
  {
   "cell_type": "code",
   "execution_count": 1,
   "metadata": {},
   "outputs": [],
   "source": [
    "import pandas as pd\n",
    "import numpy as np\n",
    "from sklearn.datasets import load_iris\n",
    "from sklearn.metrics.pairwise import cosine_similarity\n",
    "from sklearn.decomposition import PCA\n",
    "import matplotlib.pyplot as plt"
   ]
  },
  {
   "cell_type": "markdown",
   "metadata": {},
   "source": [
    "## import dataset"
   ]
  },
  {
   "cell_type": "code",
   "execution_count": 2,
   "metadata": {},
   "outputs": [
    {
     "name": "stdout",
     "output_type": "stream",
     "text": [
      "   sepal length  sepal width  petal length  petal width\n",
      "0           5.1          3.5           1.4          0.2\n",
      "1           4.9          3.0           1.4          0.2\n",
      "2           4.7          3.2           1.3          0.2\n",
      "3           4.6          3.1           1.5          0.2\n",
      "4           5.0          3.6           1.4          0.2\n"
     ]
    }
   ],
   "source": [
    "#from the scikit library we import a simple dataset with some data about three types of iris flowers:\n",
    "#iris-Setosa, iris-versicolour, iris-virginica\n",
    "#the data is stored as a bunch!\n",
    "dataset = load_iris()\n",
    "\n",
    "#Retrieve only the data part and convert it to a dataframe\n",
    "X = pd.DataFrame(dataset.data)\n",
    "\n",
    "#The dataset does not contain headers, so we'll add those\n",
    "X.columns = ['sepal length', 'sepal width', 'petal length', 'petal width']\n",
    "\n",
    "#Create the set with the targets\n",
    "y = dataset.target\n",
    "\n",
    "#print the first 5 rows\n",
    "print(X.head())"
   ]
  },
  {
   "cell_type": "markdown",
   "metadata": {},
   "source": [
    "## Pairwise cosine similarity"
   ]
  },
  {
   "cell_type": "code",
   "execution_count": 3,
   "metadata": {},
   "outputs": [
    {
     "name": "stdout",
     "output_type": "stream",
     "text": [
      "similarity between first 2 observations using sklearn: 0.9985791635040219\n",
      "similarity between first 2 observations using numpy: 0.9985791635040219\n"
     ]
    }
   ],
   "source": [
    "#This function computes all cosine similarities between each observation in X\n",
    "cos_sim = cosine_similarity(X)\n",
    "\n",
    "#Similarly you could also compute it manually using numpy\n",
    "#take the first 2 observations and compute the cosine similarity between the 2\n",
    "x1 = X.iloc[0]\n",
    "x2 = X.iloc[1]\n",
    "\n",
    "#Derive the dot product of the vectors and normalize them\n",
    "dot = np.dot(x1,x2)\n",
    "norm_x1 = np.linalg.norm(x1)\n",
    "norm_x2 = np.linalg.norm(x2)\n",
    "\n",
    "#determine cosine similarity\n",
    "cos_sim_manual = dot / (norm_x1 * norm_x2)\n",
    "\n",
    "print(\"similarity between first 2 observations using sklearn:\", cos_sim[0,1])\n",
    "print(\"similarity between first 2 observations using numpy:\", cos_sim_manual)\n"
   ]
  },
  {
   "cell_type": "markdown",
   "metadata": {},
   "source": [
    "## visualising"
   ]
  },
  {
   "cell_type": "code",
   "execution_count": 4,
   "metadata": {},
   "outputs": [
    {
     "data": {
      "image/png": "[encoded data removed]",
      "text/plain": [
       "<Figure size 432x288 with 1 Axes>"
      ]
     },
     "metadata": {
      "needs_background": "light"
     },
     "output_type": "display_data"
    }
   ],
   "source": [
    "#Since we are dealing with 4 dimensional vectors we first reduce the dimension to 2 using PCA\n",
    "pca = PCA(n_components = 2).fit(X)\n",
    "pca_2d = pca.transform(X)\n",
    "\n",
    "x1 = pca_2d[0]\n",
    "x2 = pca_2d[1]\n",
    "x3 = pca_2d[149]\n",
    "\n",
    "#Plot the 2d vectors, vector x1 and x2 are very similiar\n",
    "ax = plt.axes(xlim=(-5, 5), ylim=(-5, 5))\n",
    "ax.arrow(0,0, x1[0], x1[1], head_width=0.5, head_length=0.5, fc='k', ec='k')\n",
    "ax.arrow(0,0, x2[0], x2[1], head_width=0.5, head_length=0.5, fc='k', ec='k')\n",
    "ax.arrow(0,0, x3[0], x3[1], head_width=0.5, head_length=0.5, fc='k', ec='k')\n",
    "plt.show()"
   ]
  }
 ],
 "metadata": {
  "kernelspec": {
   "display_name": "Python 3",
   "language": "python",
   "name": "python3"
  },
  "language_info": {
   "codemirror_mode": {
    "name": "ipython",
    "version": 3
   },
   "file_extension": ".py",
   "mimetype": "text/x-python",
   "name": "python",
   "nbconvert_exporter": "python",
   "pygments_lexer": "ipython3",
   "version": "3.7.4"
  }
 },
 "nbformat": 4,
 "nbformat_minor": 2
}
